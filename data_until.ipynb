{
 "cells": [
  {
   "cell_type": "code",
   "execution_count": 3,
   "metadata": {},
   "outputs": [],
   "source": [
    "import pandas as pd\n",
    "import numpy as np\n",
    "\n",
    "import spacy\n",
    "import nltk\n",
    "import re\n",
    "\n",
    "import random\n",
    "import string\n",
    "from nltk import word_tokenize\n",
    "from nltk.corpus import stopwords\n",
    "from nltk.stem.porter import PorterStemmer\n",
    "from tqdm import tqdm\n",
    "\n",
    "import json\n",
    "import os\n",
    "\n",
    "import seaborn as sns\n",
    "%matplotlib inline\n",
    "sns.set(style='whitegrid', palette='muted', font_scale=1.2)\n",
    "\n",
    "tqdm.pandas(desc='progress-bar')"
   ]
  },
  {
   "cell_type": "code",
   "execution_count": 17,
   "metadata": {},
   "outputs": [
    {
     "ename": "TypeError",
     "evalue": "count() got an unexpected keyword argument 'axis'",
     "output_type": "error",
     "traceback": [
      "\u001b[0;31m---------------------------------------------------------------------------\u001b[0m",
      "\u001b[0;31mTypeError\u001b[0m                                 Traceback (most recent call last)",
      "\u001b[0;32m<ipython-input-17-79cf221f2d4c>\u001b[0m in \u001b[0;36m<module>\u001b[0;34m()\u001b[0m\n\u001b[1;32m      6\u001b[0m     \u001b[0;32mreturn\u001b[0m \u001b[0mlen\u001b[0m\u001b[0;34m(\u001b[0m\u001b[0mx\u001b[0m\u001b[0;34m[\u001b[0m\u001b[0;34m'claim'\u001b[0m\u001b[0;34m]\u001b[0m\u001b[0;34m.\u001b[0m\u001b[0msplit\u001b[0m\u001b[0;34m[\u001b[0m\u001b[0;34m' '\u001b[0m\u001b[0;34m]\u001b[0m\u001b[0;34m)\u001b[0m\u001b[0;34m\u001b[0m\u001b[0m\n\u001b[1;32m      7\u001b[0m \u001b[0;34m\u001b[0m\u001b[0m\n\u001b[0;32m----> 8\u001b[0;31m \u001b[0mdf\u001b[0m\u001b[0;34m[\u001b[0m\u001b[0;34m'tokens'\u001b[0m\u001b[0;34m]\u001b[0m \u001b[0;34m=\u001b[0m \u001b[0mdf\u001b[0m\u001b[0;34m.\u001b[0m\u001b[0mapply\u001b[0m\u001b[0;34m(\u001b[0m\u001b[0mcount\u001b[0m\u001b[0;34m,\u001b[0m \u001b[0maxis\u001b[0m\u001b[0;34m=\u001b[0m\u001b[0;36m1\u001b[0m\u001b[0;34m)\u001b[0m\u001b[0;34m\u001b[0m\u001b[0m\n\u001b[0m\u001b[1;32m      9\u001b[0m \u001b[0mdf\u001b[0m\u001b[0;34m\u001b[0m\u001b[0m\n",
      "\u001b[0;32m~/anaconda3/lib/python3.6/site-packages/pandas/core/series.py\u001b[0m in \u001b[0;36mapply\u001b[0;34m(self, func, convert_dtype, args, **kwds)\u001b[0m\n\u001b[1;32m   2353\u001b[0m             \u001b[0;32melse\u001b[0m\u001b[0;34m:\u001b[0m\u001b[0;34m\u001b[0m\u001b[0m\n\u001b[1;32m   2354\u001b[0m                 \u001b[0mvalues\u001b[0m \u001b[0;34m=\u001b[0m \u001b[0mself\u001b[0m\u001b[0;34m.\u001b[0m\u001b[0masobject\u001b[0m\u001b[0;34m\u001b[0m\u001b[0m\n\u001b[0;32m-> 2355\u001b[0;31m                 \u001b[0mmapped\u001b[0m \u001b[0;34m=\u001b[0m \u001b[0mlib\u001b[0m\u001b[0;34m.\u001b[0m\u001b[0mmap_infer\u001b[0m\u001b[0;34m(\u001b[0m\u001b[0mvalues\u001b[0m\u001b[0;34m,\u001b[0m \u001b[0mf\u001b[0m\u001b[0;34m,\u001b[0m \u001b[0mconvert\u001b[0m\u001b[0;34m=\u001b[0m\u001b[0mconvert_dtype\u001b[0m\u001b[0;34m)\u001b[0m\u001b[0;34m\u001b[0m\u001b[0m\n\u001b[0m\u001b[1;32m   2356\u001b[0m \u001b[0;34m\u001b[0m\u001b[0m\n\u001b[1;32m   2357\u001b[0m         \u001b[0;32mif\u001b[0m \u001b[0mlen\u001b[0m\u001b[0;34m(\u001b[0m\u001b[0mmapped\u001b[0m\u001b[0;34m)\u001b[0m \u001b[0;32mand\u001b[0m \u001b[0misinstance\u001b[0m\u001b[0;34m(\u001b[0m\u001b[0mmapped\u001b[0m\u001b[0;34m[\u001b[0m\u001b[0;36m0\u001b[0m\u001b[0;34m]\u001b[0m\u001b[0;34m,\u001b[0m \u001b[0mSeries\u001b[0m\u001b[0;34m)\u001b[0m\u001b[0;34m:\u001b[0m\u001b[0;34m\u001b[0m\u001b[0m\n",
      "\u001b[0;32mpandas/_libs/src/inference.pyx\u001b[0m in \u001b[0;36mpandas._libs.lib.map_infer\u001b[0;34m()\u001b[0m\n",
      "\u001b[0;32m~/anaconda3/lib/python3.6/site-packages/pandas/core/series.py\u001b[0m in \u001b[0;36m<lambda>\u001b[0;34m(x)\u001b[0m\n\u001b[1;32m   2340\u001b[0m         \u001b[0;31m# handle ufuncs and lambdas\u001b[0m\u001b[0;34m\u001b[0m\u001b[0;34m\u001b[0m\u001b[0m\n\u001b[1;32m   2341\u001b[0m         \u001b[0;32mif\u001b[0m \u001b[0mkwds\u001b[0m \u001b[0;32mor\u001b[0m \u001b[0margs\u001b[0m \u001b[0;32mand\u001b[0m \u001b[0;32mnot\u001b[0m \u001b[0misinstance\u001b[0m\u001b[0;34m(\u001b[0m\u001b[0mfunc\u001b[0m\u001b[0;34m,\u001b[0m \u001b[0mnp\u001b[0m\u001b[0;34m.\u001b[0m\u001b[0mufunc\u001b[0m\u001b[0;34m)\u001b[0m\u001b[0;34m:\u001b[0m\u001b[0;34m\u001b[0m\u001b[0m\n\u001b[0;32m-> 2342\u001b[0;31m             \u001b[0mf\u001b[0m \u001b[0;34m=\u001b[0m \u001b[0;32mlambda\u001b[0m \u001b[0mx\u001b[0m\u001b[0;34m:\u001b[0m \u001b[0mfunc\u001b[0m\u001b[0;34m(\u001b[0m\u001b[0mx\u001b[0m\u001b[0;34m,\u001b[0m \u001b[0;34m*\u001b[0m\u001b[0margs\u001b[0m\u001b[0;34m,\u001b[0m \u001b[0;34m**\u001b[0m\u001b[0mkwds\u001b[0m\u001b[0;34m)\u001b[0m\u001b[0;34m\u001b[0m\u001b[0m\n\u001b[0m\u001b[1;32m   2343\u001b[0m         \u001b[0;32melse\u001b[0m\u001b[0;34m:\u001b[0m\u001b[0;34m\u001b[0m\u001b[0m\n\u001b[1;32m   2344\u001b[0m             \u001b[0mf\u001b[0m \u001b[0;34m=\u001b[0m \u001b[0mfunc\u001b[0m\u001b[0;34m\u001b[0m\u001b[0m\n",
      "\u001b[0;31mTypeError\u001b[0m: count() got an unexpected keyword argument 'axis'"
     ]
    }
   ],
   "source": [
    "df = pd.read_csv('data/snopes_processed.tsv', sep='\\t')\n",
    "df = df.replace(np.nan, '', regex=True)\n",
    "df = df['claim'].astype(str)\n",
    "\n",
    "def count(x):\n",
    "    print(x['claim'])\n",
    "    return len(x['claim'].split[' '])\n",
    "\n",
    "df['tokens'] = df.apply(count, axis=1)\n",
    "df"
   ]
  },
  {
   "cell_type": "code",
   "execution_count": 2,
   "metadata": {
    "collapsed": true
   },
   "outputs": [],
   "source": [
    "stop = set(stopwords.words('english') + list(string.punctuation))\n",
    "stemmer = PorterStemmer()\n",
    "re_punct = re.compile('[' + ''.join(string.punctuation) + ']')\n",
    "\n",
    "def preprocess(text):\n",
    "    try:\n",
    "        text = text.lower()\n",
    "        tokens = word_tokenize(text)\n",
    "#         tokens = [t for t in tokens if not t in stop]\n",
    "        tokens = [re.sub(re_punct, ' ', t) for t in tokens]\n",
    "        tokens = [t for t in tokens if len(t) > 2]\n",
    "#         tokens = [stemmer.stem(t) for t in tokens]\n",
    "        if len(tokens) == 0:\n",
    "            return ' '\n",
    "        else:\n",
    "            return ' '.join(tokens)\n",
    "    except:\n",
    "        return ' '\n",
    "    \n",
    "def tokenize_count(row):\n",
    "    return len(row.split(' '))\n",
    "\n"
   ]
  },
  {
   "cell_type": "code",
   "execution_count": null,
   "metadata": {
    "collapsed": true
   },
   "outputs": [],
   "source": []
  },
  {
   "cell_type": "code",
   "execution_count": 3,
   "metadata": {
    "collapsed": true
   },
   "outputs": [],
   "source": [
    "def get_splits(X, y, max_words = 20000, MAX_SEQUENCE_LENGTH = 100, EMBEDDING_DIM = 300):\n",
    "    tokenizer = Tokenizer(num_words=max_words,lower=True, split=' ', \n",
    "                          filters='\"#%&()*+-/<=>@[\\\\]^_`{|}~\\t\\n',\n",
    "                          char_level=False, oov_token=u'<UNK>')\n",
    "\n",
    "    tokenizer.fit_on_texts(X)\n",
    "\n",
    "    X = tokenizer.texts_to_sequences(X)\n",
    "    Y = pd.get_dummies(y).values\n",
    "    # print(X[0])\n",
    "\n",
    "    word_index = tokenizer.word_index\n",
    "    print('Found %s unique tokens.' % len(word_index))\n",
    "\n",
    "    X = pad_sequences(X, maxlen=MAX_SEQUENCE_LENGTH,  padding=\"post\", truncating=\"post\")\n",
    "    # print(X[10])\n",
    "\n",
    "    x_train, x_test, y_train, y_test = train_test_split(X, Y, test_size = 0.2, \n",
    "                                                        random_state = 42)\n",
    "\n",
    "    # print(y_train[100])\n",
    "\n",
    "    print('x_train shape:', x_train.shape)\n",
    "    print('x_test shape:', x_test.shape)\n",
    "    print('y_train shape:', y_train.shape)\n",
    "    print('y_test shape:', y_test.shape)\n",
    "    \n",
    "    return x_train, x_test, y_train, y_test, word_index"
   ]
  },
  {
   "cell_type": "code",
   "execution_count": 8,
   "metadata": {},
   "outputs": [
    {
     "data": {
      "text/html": [
       "<div>\n",
       "<style>\n",
       "    .dataframe thead tr:only-child th {\n",
       "        text-align: right;\n",
       "    }\n",
       "\n",
       "    .dataframe thead th {\n",
       "        text-align: left;\n",
       "    }\n",
       "\n",
       "    .dataframe tbody tr th {\n",
       "        vertical-align: top;\n",
       "    }\n",
       "</style>\n",
       "<table border=\"1\" class=\"dataframe\">\n",
       "  <thead>\n",
       "    <tr style=\"text-align: right;\">\n",
       "      <th></th>\n",
       "      <th>label</th>\n",
       "      <th>text</th>\n",
       "    </tr>\n",
       "  </thead>\n",
       "  <tbody>\n",
       "    <tr>\n",
       "      <th>48849</th>\n",
       "      <td>Trusted</td>\n",
       "      <td>The ruling Kuomintang (KMT) has claimed owners...</td>\n",
       "    </tr>\n",
       "    <tr>\n",
       "      <th>48850</th>\n",
       "      <td>Trusted</td>\n",
       "      <td>The Taipei city government has encouraged the ...</td>\n",
       "    </tr>\n",
       "    <tr>\n",
       "      <th>48851</th>\n",
       "      <td>Trusted</td>\n",
       "      <td>President Ma Ying-jeou said Friday that a park...</td>\n",
       "    </tr>\n",
       "    <tr>\n",
       "      <th>48852</th>\n",
       "      <td>Trusted</td>\n",
       "      <td>The families of the four people who were kille...</td>\n",
       "    </tr>\n",
       "    <tr>\n",
       "      <th>48853</th>\n",
       "      <td>Trusted</td>\n",
       "      <td>The Ministry of Finance will make public on Sa...</td>\n",
       "    </tr>\n",
       "  </tbody>\n",
       "</table>\n",
       "</div>"
      ],
      "text/plain": [
       "         label                                               text\n",
       "48849  Trusted  The ruling Kuomintang (KMT) has claimed owners...\n",
       "48850  Trusted  The Taipei city government has encouraged the ...\n",
       "48851  Trusted  President Ma Ying-jeou said Friday that a park...\n",
       "48852  Trusted  The families of the four people who were kille...\n",
       "48853  Trusted  The Ministry of Finance will make public on Sa..."
      ]
     },
     "execution_count": 8,
     "metadata": {},
     "output_type": "execute_result"
    }
   ],
   "source": [
    "data_train = pd.read_csv('data/newsfiles/fulltrain.csv', names=['label', 'text'])\n",
    "categories = {1:\"Satire\",2:\"Hoax\",\n",
    "              3:\"Propaganda\",4:\"Trusted\"}\n",
    "def to_label(cat):\n",
    "    return categories[cat]\n",
    "    \n",
    "    \n",
    "data_train['label'] = data_train['label'].apply(to_label)\n",
    "data_train.tail()"
   ]
  },
  {
   "cell_type": "code",
   "execution_count": 7,
   "metadata": {},
   "outputs": [
    {
     "name": "stdout",
     "output_type": "stream",
     "text": [
      "3    17870\n",
      "1    14047\n",
      "4     9995\n",
      "2     6942\n",
      "Name: label, dtype: int64\n"
     ]
    },
    {
     "data": {
      "text/plain": [
       "<matplotlib.axes._subplots.AxesSubplot at 0x7fc8a8b9e550>"
      ]
     },
     "execution_count": 7,
     "metadata": {},
     "output_type": "execute_result"
    },
    {
     "data": {
      "image/png": "[encoded data removed]",
      "text/plain": [
       "<matplotlib.figure.Figure at 0x7fc8a8cfba90>"
      ]
     },
     "metadata": {},
     "output_type": "display_data"
    }
   ],
   "source": [
    "print(data_train['label'].value_counts())\n",
    "\n",
    "data_train['label'].value_counts().plot(kind='bar', alpha=.5)"
   ]
  },
  {
   "cell_type": "code",
   "execution_count": null,
   "metadata": {
    "collapsed": true
   },
   "outputs": [],
   "source": [
    "\n",
    "def prep_fakeNewsNet():\n",
    "    dfs = []\n",
    "    for root, dirs, files in os.walk('data/FakeNewsNet/Data/'): \n",
    "        for filename in files:\n",
    "            if filename.endswith('json'):\n",
    "    #             print('%s/%s' % (root, filename))\n",
    "                with open('%s/%s' % (root, filename)) as json_data:\n",
    "                    data = json.load(json_data)\n",
    "                    df = pd.DataFrame.from_dict(data, orient='index').T\n",
    "                    df['label'] = root.split('/')[4]\n",
    "                    df['collected_by'] = root.split('/')[3]\n",
    "                    dfs.append(df)\n",
    "\n",
    "    df = pd.concat(dfs, ignore_index=True)#.set_index('number')   \n",
    "    df['text_tokens'] = df['text'].progress_map(preprocess)\n",
    "    df['title_tokens'] = df['title'].progress_map(preprocess)\n",
    "    df.dropna(subset=['text'], inplace=True) \n",
    "    df = df[['text', 'text_tokens', 'title', 'title_tokens', 'label', 'collected_by']]\n",
    "    df['token_count'] = df['text_tokens'].apply(tokenize_count)\n",
    "    df['title_count'] = df['title_tokens'].apply(tokenize_count)\n",
    "    return df\n",
    "\n",
    "def get_fakeNewsNet():\n",
    "    data_train = pd.read_csv('data/fakeNewsNet.csv', sep='\\t')\n",
    "    data_train['label'].value_counts().plot(kind='bar', alpha=.5)\n",
    "\n",
    "    print('Loading data...')\n",
    "\n",
    "    X = data_train['tokens'].values\n",
    "    y = data_train['label']\n",
    " \n",
    "    labels = data_train['label'].unique()\n",
    "    print(labels)\n",
    "    \n",
    "    num_classes = len(labels)\n",
    "    print(num_classes, 'classes')\n",
    "    \n",
    "    x_train, x_test, y_train, y_test, word_index = get_splits(X, y)\n",
    "    \n",
    "    return x_train, x_test, y_train, y_test, word_index, labels, num_classes, X, y\n",
    "\n",
    "\n",
    "df = prep_fakeNewsNet()\n",
    "df.to_csv('data/fakeNewsNet.csv', sep='\\t')\n",
    "df.tail()\n"
   ]
  },
  {
   "cell_type": "code",
   "execution_count": null,
   "metadata": {
    "collapsed": true
   },
   "outputs": [],
   "source": [
    "def prep_fake_or_real_news():\n",
    "    data_train = pd.read_csv('data/fake_or_real_news.csv')\n",
    "    data_train['tokens'] = data_train['text'].progress_map(preprocess)\n",
    "    \n",
    "    data_train = data_train[data_train['tokens'].notnull()]\n",
    "    data_train.reset_index(inplace=True)\n",
    "    data_train.drop('index', inplace=True, axis=1)\n",
    "    data_train.to_csv('data/fake_or_real_news.csv')\n",
    "\n",
    "# prep_fake_or_real_news()"
   ]
  },
  {
   "cell_type": "code",
   "execution_count": null,
   "metadata": {
    "collapsed": true
   },
   "outputs": [],
   "source": [
    "def get_fake_or_real_news():\n",
    "    data_train = pd.read_csv('data/fake_or_real_news.csv')\n",
    "    data_train['label'].value_counts().plot(kind='bar', alpha=.5)\n",
    "\n",
    "    print('Loading data...')\n",
    "\n",
    "    X = data_train['tokens'].values\n",
    "    y = data_train['label']\n",
    "\n",
    "    classes = data_train['label'].unique()\n",
    "    \n",
    "    labels = data_train['label'].unique()\n",
    "    print(labels)\n",
    "    \n",
    "    num_classes = len(labels)\n",
    "    print(num_classes, 'classes')\n",
    "    \n",
    "    x_train, x_test, y_train, y_test, word_index = get_splits(X, y)\n",
    "    \n",
    "    return x_train, x_test, y_train, y_test, word_index, labels, num_classes, X, y\n",
    "\n",
    "\n",
    "# x_train, x_test, y_train, y_test, word_index, labels, num_classes = get_fake_or_real_news()"
   ]
  },
  {
   "cell_type": "code",
   "execution_count": 21,
   "metadata": {
    "collapsed": true
   },
   "outputs": [],
   "source": [
    "def get_politifact():\n",
    "    data_train = pd.read_csv('data/politifact.tsv', sep='\\t')\n",
    "\n",
    "    data_train['ruling'].value_counts().plot(kind='bar', alpha=.5)\n",
    "\n",
    "    data_train['label'] = '' \n",
    "    def label(row):\n",
    "    #     print(row)\n",
    "        if row in ['true', 'half-true', 'mostly-true']:\n",
    "            return 'true'\n",
    "        else:\n",
    "            return 'false'\n",
    "\n",
    "    data_train['label'] = data_train['ruling'].apply(label)\n",
    "    print(data_train['label'].value_counts())\n",
    "\n",
    "    print('Loading data...')\n",
    "    \n",
    "        ###############\n",
    "    X  = data_train['statement__text'].values\n",
    "    y = data_train['label']\n",
    "\n",
    "    classes = data_train['label'].unique()\n",
    "    \n",
    "    labels = data_train['label'].unique()\n",
    "    print(labels)\n",
    "    \n",
    "    num_classes = len(labels)\n",
    "    print(num_classes, 'classes')\n",
    "    \n",
    "    x_train, x_test, y_train, y_test, word_index = get_splits(X, y)\n",
    "\n",
    "    data_train['label'].value_counts().plot(kind='bar', alpha=.5)\n",
    "    \n",
    "    return x_train, x_test, y_train, y_test, word_index, labels, num_classes, X, y\n",
    " \n",
    "# x_train, x_test, y_train, y_test, word_index, labels, num_classes = get_politifact()"
   ]
  },
  {
   "cell_type": "code",
   "execution_count": 22,
   "metadata": {},
   "outputs": [
    {
     "data": {
      "image/png": "[encoded data removed]",
      "text/plain": [
       "<matplotlib.figure.Figure at 0x7f18b2908400>"
      ]
     },
     "metadata": {},
     "output_type": "display_data"
    },
    {
     "name": "stdout",
     "output_type": "stream",
     "text": [
      "3806\n"
     ]
    },
    {
     "data": {
      "text/html": [
       "<div>\n",
       "<style>\n",
       "    .dataframe thead tr:only-child th {\n",
       "        text-align: right;\n",
       "    }\n",
       "\n",
       "    .dataframe thead th {\n",
       "        text-align: left;\n",
       "    }\n",
       "\n",
       "    .dataframe tbody tr th {\n",
       "        vertical-align: top;\n",
       "    }\n",
       "</style>\n",
       "<table border=\"1\" class=\"dataframe\">\n",
       "  <thead>\n",
       "    <tr style=\"text-align: right;\">\n",
       "      <th></th>\n",
       "      <th>Unnamed: 0</th>\n",
       "      <th>Unnamed: 0.1</th>\n",
       "      <th>article__meta</th>\n",
       "      <th>link</th>\n",
       "      <th>quote</th>\n",
       "      <th>ruling</th>\n",
       "      <th>statement__source</th>\n",
       "      <th>statement__text</th>\n",
       "    </tr>\n",
       "  </thead>\n",
       "  <tbody>\n",
       "    <tr>\n",
       "      <th>14393</th>\n",
       "      <td>14393</td>\n",
       "      <td>14393</td>\n",
       "      <td>on Tuesday, October 23rd, 2007</td>\n",
       "      <td>/truth-o-meter/statements/2007/oct/23/mike-huc...</td>\n",
       "      <td>1 out of 56 equals 'most'? No, it doesn't</td>\n",
       "      <td>pants-fire</td>\n",
       "      <td>Mike Huckabee</td>\n",
       "      <td>The signers of the Declaration of Independence...</td>\n",
       "    </tr>\n",
       "    <tr>\n",
       "      <th>14394</th>\n",
       "      <td>14394</td>\n",
       "      <td>14394</td>\n",
       "      <td>on Monday, September 24th, 2007</td>\n",
       "      <td>/truth-o-meter/statements/2007/sep/24/rudy-giu...</td>\n",
       "      <td>Famous, but not that famous</td>\n",
       "      <td>pants-fire</td>\n",
       "      <td>Rudy Giuliani</td>\n",
       "      <td>\" I 'm probably one of the four or five best -...</td>\n",
       "    </tr>\n",
       "    <tr>\n",
       "      <th>14395</th>\n",
       "      <td>14395</td>\n",
       "      <td>14395</td>\n",
       "      <td>on Monday, September 10th, 2007</td>\n",
       "      <td>/truth-o-meter/statements/2007/sep/10/bill-ric...</td>\n",
       "      <td>Richardson re-writes Bible, Constitution</td>\n",
       "      <td>pants-fire</td>\n",
       "      <td>Bill Richardson</td>\n",
       "      <td>\" Iowa , for good reason , for constitutional ...</td>\n",
       "    </tr>\n",
       "    <tr>\n",
       "      <th>14396</th>\n",
       "      <td>14396</td>\n",
       "      <td>14396</td>\n",
       "      <td>on Thursday, August 30th, 2007</td>\n",
       "      <td>/truth-o-meter/statements/2007/aug/30/mike-gra...</td>\n",
       "      <td>He's off, way off on who's in prison</td>\n",
       "      <td>pants-fire</td>\n",
       "      <td>Mike Gravel</td>\n",
       "      <td>\" In 1972 , we had a 179,000 human beings in j...</td>\n",
       "    </tr>\n",
       "    <tr>\n",
       "      <th>14397</th>\n",
       "      <td>14397</td>\n",
       "      <td>14397</td>\n",
       "      <td>on Friday, August 24th, 2007</td>\n",
       "      <td>/truth-o-meter/statements/2007/aug/24/joe-bide...</td>\n",
       "      <td>Irresponsible claim (and wrong medical diagnosis)</td>\n",
       "      <td>pants-fire</td>\n",
       "      <td>Joe Biden</td>\n",
       "      <td>\" The president is brain - dead . \"</td>\n",
       "    </tr>\n",
       "  </tbody>\n",
       "</table>\n",
       "</div>"
      ],
      "text/plain": [
       "       Unnamed: 0  Unnamed: 0.1                    article__meta  \\\n",
       "14393       14393         14393   on Tuesday, October 23rd, 2007   \n",
       "14394       14394         14394  on Monday, September 24th, 2007   \n",
       "14395       14395         14395  on Monday, September 10th, 2007   \n",
       "14396       14396         14396   on Thursday, August 30th, 2007   \n",
       "14397       14397         14397     on Friday, August 24th, 2007   \n",
       "\n",
       "                                                    link  \\\n",
       "14393  /truth-o-meter/statements/2007/oct/23/mike-huc...   \n",
       "14394  /truth-o-meter/statements/2007/sep/24/rudy-giu...   \n",
       "14395  /truth-o-meter/statements/2007/sep/10/bill-ric...   \n",
       "14396  /truth-o-meter/statements/2007/aug/30/mike-gra...   \n",
       "14397  /truth-o-meter/statements/2007/aug/24/joe-bide...   \n",
       "\n",
       "                                                   quote      ruling  \\\n",
       "14393          1 out of 56 equals 'most'? No, it doesn't  pants-fire   \n",
       "14394                        Famous, but not that famous  pants-fire   \n",
       "14395           Richardson re-writes Bible, Constitution  pants-fire   \n",
       "14396               He's off, way off on who's in prison  pants-fire   \n",
       "14397  Irresponsible claim (and wrong medical diagnosis)  pants-fire   \n",
       "\n",
       "      statement__source                                    statement__text  \n",
       "14393     Mike Huckabee  The signers of the Declaration of Independence...  \n",
       "14394     Rudy Giuliani  \" I 'm probably one of the four or five best -...  \n",
       "14395   Bill Richardson  \" Iowa , for good reason , for constitutional ...  \n",
       "14396       Mike Gravel  \" In 1972 , we had a 179,000 human beings in j...  \n",
       "14397         Joe Biden                \" The president is brain - dead . \"  "
      ]
     },
     "execution_count": 22,
     "metadata": {},
     "output_type": "execute_result"
    }
   ],
   "source": [
    "# data_train = pd.read_csv('data/politifact.tsv', sep='\\t')\n",
    "# # data_train['ruling'].value_counts().plot(kind='bar', alpha=.5)\n",
    "\n",
    "# import matplotlib.pyplot as plt\n",
    "# from matplotlib.pyplot import pie, axis, show\n",
    "\n",
    "# sums = data_train['ruling'].value_counts()\n",
    "# axis('equal');\n",
    "# pie(sums, labels=sums.index);\n",
    "# show()\n",
    "\n",
    "# print(len(data_train['statement__source'].unique()))\n",
    "\n",
    "# data_train.tail()"
   ]
  },
  {
   "cell_type": "code",
   "execution_count": null,
   "metadata": {
    "collapsed": true
   },
   "outputs": [],
   "source": [
    "\n",
    "def prep_UCI():\n",
    "    header = ['ID', 'TITLE', 'URL', 'PUBLISHER', 'CATEGORY', 'STORY', 'HOSTNAME','TIMESTAMP']\n",
    "    # b = business, t = science and technology, e = entertainment, m = health\n",
    "    data_train = pd.read_csv('data/newsCorpora.csv', names=header,  sep='\\t')\n",
    "    \n",
    "    data_train['TITLE'] = data_train['TITLE'].progress_map(preprocess)\n",
    "\n",
    "    data_train = data_train[data_train['TITLE'].notnull()]\n",
    "    data_train.drop('ID', inplace=True, axis=1)\n",
    "    data_train.reset_index(inplace=True)\n",
    "    data_train['token_count'] = data_train['TITLE'].apply(tokenize_count)\n",
    "    data_train = data_train[data_train['token_count'] < 50]\n",
    "    \n",
    "    return data_train\n",
    "    \n",
    "# data_train = prep_UCI()\n",
    "# data_train['CATEGORY'].value_counts().plot(kind='bar', alpha=.5)\n",
    "# data_train['token_count'].hist(bins=10, alpha=.5)\n",
    "# # data_train.to_csv('data/newsCorpora.csv', sep='\\t')\n",
    "# data_train.tail()\n",
    "    "
   ]
  },
  {
   "cell_type": "code",
   "execution_count": null,
   "metadata": {
    "collapsed": true
   },
   "outputs": [],
   "source": [
    "\n",
    "# data_train['token_count'].hist(bins=10, alpha=.5)\n",
    "# data_train['token_count'].describe()"
   ]
  },
  {
   "cell_type": "code",
   "execution_count": null,
   "metadata": {
    "collapsed": true
   },
   "outputs": [],
   "source": [
    "\n",
    "def prep_fake():\n",
    "    data_train = pd.read_csv('data/fake.csv')\n",
    "    data_train['text'] = data_train['text'].progress_map(preprocess)\n",
    "    data_train['thread_title'] = data_train['thread_title'].progress_map(preprocess)\n",
    "\n",
    "    data_train = data_train[data_train['thread_title'].notnull()]\n",
    "    data_train.reset_index(inplace=True)\n",
    "    data_train.drop('index', inplace=True, axis=1)\n",
    "    data_train['token_count'] = data_train['thread_title'].apply(tokenize_count)\n",
    "    return data_train\n",
    "\n",
    "# fake_df = prep_fake()\n",
    "# fake_df.to_csv('data/fake.csv')\n",
    "# fake_df.tail()"
   ]
  },
  {
   "cell_type": "code",
   "execution_count": null,
   "metadata": {
    "collapsed": true
   },
   "outputs": [],
   "source": [
    "# fake_df['token_count'].hist(bins=10, alpha=.5)\n",
    "# fake_df['token_count'].describe()\n"
   ]
  },
  {
   "cell_type": "code",
   "execution_count": null,
   "metadata": {
    "collapsed": true
   },
   "outputs": [],
   "source": []
  },
  {
   "cell_type": "code",
   "execution_count": null,
   "metadata": {
    "collapsed": true
   },
   "outputs": [],
   "source": [
    "def get_fact_fake():\n",
    "    # print('Loading data...')\n",
    "\n",
    "    fake_df = pd.read_csv('data/fake.csv')\n",
    "    real_df = pd.read_csv('data/newsCorpora.csv', sep='\\t')\n",
    "    text = np.append(fake_df['thread_title'].values,  real_df['TITLE'].values)\n",
    "    label = np.append( ['FALSE'] * len(fake_df), ['TRUE'] * len(real_df))\n",
    "    data = {'text' : text, 'label': label}\n",
    "\n",
    "    data_train = pd.DataFrame(data)\n",
    "    data_train['label'].value_counts().plot(kind='bar', alpha=.5)\n",
    "    print(data_train['label'].value_counts())\n",
    "    data_train.tail()\n",
    "\n",
    "    X  = data_train['text'].values\n",
    "    y = data_train['label']\n",
    "\n",
    "    labels = data_train['label'].unique()\n",
    "    print(labels)\n",
    "\n",
    "    num_classes = len(labels)\n",
    "    print(num_classes, 'classes')\n",
    "\n",
    "    x_train, x_test, y_train, y_test, word_index = get_splits(X, y)\n",
    "\n",
    "#     data_train['label'].value_counts().plot(kind='bar', alpha=.5)\n",
    "\n",
    "    return x_train, x_test, y_train, y_test, word_index, labels, num_classes, X, y\n",
    "\n",
    "# x_train, x_test, y_train, y_test, word_index, labels, num_classes, _ = get_fact_fake()"
   ]
  },
  {
   "cell_type": "code",
   "execution_count": null,
   "metadata": {
    "collapsed": true
   },
   "outputs": [],
   "source": []
  }
 ],
 "metadata": {
  "kernelspec": {
   "display_name": "Python 3",
   "language": "python",
   "name": "python3"
  },
  "language_info": {
   "codemirror_mode": {
    "name": "ipython",
    "version": 3
   },
   "file_extension": ".py",
   "mimetype": "text/x-python",
   "name": "python",
   "nbconvert_exporter": "python",
   "pygments_lexer": "ipython3",
   "version": "3.6.2"
  }
 },
 "nbformat": 4,
 "nbformat_minor": 2
}
